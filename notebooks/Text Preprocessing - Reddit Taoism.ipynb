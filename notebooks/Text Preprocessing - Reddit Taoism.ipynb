{
 "cells": [
  {
   "cell_type": "markdown",
   "id": "21828b7f-1276-4e0e-ae6e-a8792036d8e6",
   "metadata": {},
   "source": [
    "# Reddit Research: Taoism\n",
    "## Text Preprocessing"
   ]
  },
  {
   "cell_type": "code",
   "execution_count": 3,
   "id": "ea554dea-a33b-45ad-82ba-ffd4c3f3ad7d",
   "metadata": {},
   "outputs": [
    {
     "name": "stdout",
     "output_type": "stream",
     "text": [
      "C:\\Users\\bacep\\anaconda3\\python.exe\n",
      "C:\\Program Files\\Python310\\python.exe\n",
      "C:\\Users\\bacep\\AppData\\Local\\Programs\\Python\\Python313\\python.exe\n",
      "C:\\Users\\bacep\\AppData\\Local\\Microsoft\\WindowsApps\\python.exe\n"
     ]
    }
   ],
   "source": [
    "!where python"
   ]
  },
  {
   "cell_type": "code",
   "execution_count": 5,
   "id": "00bebdba-818b-41e7-95ef-47df144305d7",
   "metadata": {},
   "outputs": [
    {
     "name": "stdout",
     "output_type": "stream",
     "text": [
      "Requirement already satisfied: spacy in c:\\users\\bacep\\anaconda3\\lib\\site-packages (3.8.5)\n",
      "Requirement already satisfied: spacy-legacy<3.1.0,>=3.0.11 in c:\\users\\bacep\\anaconda3\\lib\\site-packages (from spacy) (3.0.12)\n",
      "Requirement already satisfied: spacy-loggers<2.0.0,>=1.0.0 in c:\\users\\bacep\\anaconda3\\lib\\site-packages (from spacy) (1.0.5)\n",
      "Requirement already satisfied: murmurhash<1.1.0,>=0.28.0 in c:\\users\\bacep\\anaconda3\\lib\\site-packages (from spacy) (1.0.12)\n",
      "Requirement already satisfied: cymem<2.1.0,>=2.0.2 in c:\\users\\bacep\\anaconda3\\lib\\site-packages (from spacy) (2.0.11)\n",
      "Requirement already satisfied: preshed<3.1.0,>=3.0.2 in c:\\users\\bacep\\anaconda3\\lib\\site-packages (from spacy) (3.0.9)\n",
      "Requirement already satisfied: thinc<8.4.0,>=8.3.4 in c:\\users\\bacep\\anaconda3\\lib\\site-packages (from spacy) (8.3.6)\n",
      "Requirement already satisfied: wasabi<1.2.0,>=0.9.1 in c:\\users\\bacep\\anaconda3\\lib\\site-packages (from spacy) (1.1.3)\n",
      "Requirement already satisfied: srsly<3.0.0,>=2.4.3 in c:\\users\\bacep\\anaconda3\\lib\\site-packages (from spacy) (2.5.1)\n",
      "Requirement already satisfied: catalogue<2.1.0,>=2.0.6 in c:\\users\\bacep\\anaconda3\\lib\\site-packages (from spacy) (2.0.10)\n",
      "Requirement already satisfied: weasel<0.5.0,>=0.1.0 in c:\\users\\bacep\\anaconda3\\lib\\site-packages (from spacy) (0.4.1)\n",
      "Requirement already satisfied: typer<1.0.0,>=0.3.0 in c:\\users\\bacep\\anaconda3\\lib\\site-packages (from spacy) (0.9.0)\n",
      "Requirement already satisfied: tqdm<5.0.0,>=4.38.0 in c:\\users\\bacep\\anaconda3\\lib\\site-packages (from spacy) (4.66.5)\n",
      "Requirement already satisfied: numpy>=1.19.0 in c:\\users\\bacep\\anaconda3\\lib\\site-packages (from spacy) (2.2.5)\n",
      "Requirement already satisfied: requests<3.0.0,>=2.13.0 in c:\\users\\bacep\\anaconda3\\lib\\site-packages (from spacy) (2.32.3)\n",
      "Requirement already satisfied: pydantic!=1.8,!=1.8.1,<3.0.0,>=1.7.4 in c:\\users\\bacep\\anaconda3\\lib\\site-packages (from spacy) (2.8.2)\n",
      "Requirement already satisfied: jinja2 in c:\\users\\bacep\\anaconda3\\lib\\site-packages (from spacy) (3.1.4)\n",
      "Requirement already satisfied: setuptools in c:\\users\\bacep\\anaconda3\\lib\\site-packages (from spacy) (75.1.0)\n",
      "Requirement already satisfied: packaging>=20.0 in c:\\users\\bacep\\anaconda3\\lib\\site-packages (from spacy) (24.1)\n",
      "Requirement already satisfied: langcodes<4.0.0,>=3.2.0 in c:\\users\\bacep\\anaconda3\\lib\\site-packages (from spacy) (3.5.0)\n",
      "Requirement already satisfied: language-data>=1.2 in c:\\users\\bacep\\anaconda3\\lib\\site-packages (from langcodes<4.0.0,>=3.2.0->spacy) (1.3.0)\n",
      "Requirement already satisfied: annotated-types>=0.4.0 in c:\\users\\bacep\\anaconda3\\lib\\site-packages (from pydantic!=1.8,!=1.8.1,<3.0.0,>=1.7.4->spacy) (0.6.0)\n",
      "Requirement already satisfied: pydantic-core==2.20.1 in c:\\users\\bacep\\anaconda3\\lib\\site-packages (from pydantic!=1.8,!=1.8.1,<3.0.0,>=1.7.4->spacy) (2.20.1)\n",
      "Requirement already satisfied: typing-extensions>=4.6.1 in c:\\users\\bacep\\anaconda3\\lib\\site-packages (from pydantic!=1.8,!=1.8.1,<3.0.0,>=1.7.4->spacy) (4.11.0)\n",
      "Requirement already satisfied: charset-normalizer<4,>=2 in c:\\users\\bacep\\anaconda3\\lib\\site-packages (from requests<3.0.0,>=2.13.0->spacy) (3.3.2)\n",
      "Requirement already satisfied: idna<4,>=2.5 in c:\\users\\bacep\\anaconda3\\lib\\site-packages (from requests<3.0.0,>=2.13.0->spacy) (3.7)\n",
      "Requirement already satisfied: urllib3<3,>=1.21.1 in c:\\users\\bacep\\anaconda3\\lib\\site-packages (from requests<3.0.0,>=2.13.0->spacy) (2.2.3)\n",
      "Requirement already satisfied: certifi>=2017.4.17 in c:\\users\\bacep\\anaconda3\\lib\\site-packages (from requests<3.0.0,>=2.13.0->spacy) (2025.1.31)\n",
      "Requirement already satisfied: blis<1.4.0,>=1.3.0 in c:\\users\\bacep\\anaconda3\\lib\\site-packages (from thinc<8.4.0,>=8.3.4->spacy) (1.3.0)\n",
      "Requirement already satisfied: confection<1.0.0,>=0.0.1 in c:\\users\\bacep\\anaconda3\\lib\\site-packages (from thinc<8.4.0,>=8.3.4->spacy) (0.1.5)\n",
      "Requirement already satisfied: colorama in c:\\users\\bacep\\anaconda3\\lib\\site-packages (from tqdm<5.0.0,>=4.38.0->spacy) (0.4.6)\n",
      "Requirement already satisfied: click<9.0.0,>=7.1.1 in c:\\users\\bacep\\anaconda3\\lib\\site-packages (from typer<1.0.0,>=0.3.0->spacy) (8.1.7)\n",
      "Requirement already satisfied: cloudpathlib<1.0.0,>=0.7.0 in c:\\users\\bacep\\anaconda3\\lib\\site-packages (from weasel<0.5.0,>=0.1.0->spacy) (0.21.1)\n",
      "Requirement already satisfied: smart-open<8.0.0,>=5.2.1 in c:\\users\\bacep\\anaconda3\\lib\\site-packages (from weasel<0.5.0,>=0.1.0->spacy) (5.2.1)\n",
      "Requirement already satisfied: MarkupSafe>=2.0 in c:\\users\\bacep\\anaconda3\\lib\\site-packages (from jinja2->spacy) (2.1.3)\n",
      "Requirement already satisfied: marisa-trie>=1.1.0 in c:\\users\\bacep\\anaconda3\\lib\\site-packages (from language-data>=1.2->langcodes<4.0.0,>=3.2.0->spacy) (1.2.1)\n"
     ]
    },
    {
     "name": "stderr",
     "output_type": "stream",
     "text": [
      "Traceback (most recent call last):\n",
      "  File \"<frozen runpy>\", line 189, in _run_module_as_main\n",
      "  File \"<frozen runpy>\", line 148, in _get_module_details\n",
      "  File \"<frozen runpy>\", line 112, in _get_module_details\n",
      "  File \"C:\\Users\\bacep\\anaconda3\\Lib\\site-packages\\spacy\\__init__.py\", line 6, in <module>\n",
      "    from .errors import setup_default_warnings\n",
      "  File \"C:\\Users\\bacep\\anaconda3\\Lib\\site-packages\\spacy\\errors.py\", line 3, in <module>\n",
      "    from .compat import Literal\n",
      "  File \"C:\\Users\\bacep\\anaconda3\\Lib\\site-packages\\spacy\\compat.py\", line 4, in <module>\n",
      "    from thinc.util import copy_array\n",
      "  File \"C:\\Users\\bacep\\anaconda3\\Lib\\site-packages\\thinc\\__init__.py\", line 5, in <module>\n",
      "    from .config import registry\n",
      "  File \"C:\\Users\\bacep\\anaconda3\\Lib\\site-packages\\thinc\\config.py\", line 5, in <module>\n",
      "    from .types import Decorator\n",
      "  File \"C:\\Users\\bacep\\anaconda3\\Lib\\site-packages\\thinc\\types.py\", line 27, in <module>\n",
      "    from .compat import cupy, has_cupy\n",
      "  File \"C:\\Users\\bacep\\anaconda3\\Lib\\site-packages\\thinc\\compat.py\", line 99, in <module>\n",
      "    import h5py\n",
      "  File \"C:\\Users\\bacep\\anaconda3\\Lib\\site-packages\\h5py\\__init__.py\", line 45, in <module>\n",
      "    from ._conv import register_converters as _register_converters, \\\n",
      "  File \"h5py\\\\_conv.pyx\", line 1, in init h5py._conv\n",
      "  File \"h5py\\\\h5r.pyx\", line 1, in init h5py.h5r\n",
      "  File \"h5py\\\\h5p.pyx\", line 1, in init h5py.h5p\n",
      "ValueError: numpy.dtype size changed, may indicate binary incompatibility. Expected 96 from C header, got 88 from PyObject\n"
     ]
    }
   ],
   "source": [
    "!pip install spacy\n",
    "!python -m spacy download en_core_web_sm"
   ]
  },
  {
   "cell_type": "code",
   "execution_count": 23,
   "id": "42f4995d-e78b-41d4-b8c9-3d753c373415",
   "metadata": {},
   "outputs": [],
   "source": [
    "import spacy\n",
    "import pandas as pd"
   ]
  },
  {
   "cell_type": "code",
   "execution_count": 25,
   "id": "e54f9a7c-fc37-47e0-8807-1ac381b23860",
   "metadata": {},
   "outputs": [],
   "source": [
    "nlp = spacy.load(\"en_core_web_sm\", disable=[\"ner\", \"parser\"])"
   ]
  },
  {
   "cell_type": "code",
   "execution_count": 27,
   "id": "e1d6d048-ebe7-4d92-9b2d-8e630f4532a2",
   "metadata": {},
   "outputs": [],
   "source": [
    "# Load raw comments\n",
    "comments_df = pd.read_csv(\"../data/taoism_comments.csv\")"
   ]
  },
  {
   "cell_type": "code",
   "execution_count": 29,
   "id": "ea71b81e-daad-46cc-a3af-9b96f00b30e4",
   "metadata": {},
   "outputs": [],
   "source": [
    "# Preprocessing Function\n",
    "def clean_text(text):\n",
    "    doc = nlp(text.lower())  # lowercase and tokenize\n",
    "    tokens = [\n",
    "        token.lemma_ for token in doc\n",
    "        if not token.is_stop            # remove stopwords\n",
    "        and not token.is_punct          # remove punctuation\n",
    "        and not token.like_url          # remove links\n",
    "        and not token.like_email        # remove emails\n",
    "        and not token.is_space\n",
    "        and len(token) > 2              # remove very short tokens\n",
    "    ]\n",
    "    return \" \".join(tokens)"
   ]
  },
  {
   "cell_type": "code",
   "execution_count": 31,
   "id": "3dfaa3db-6a18-42e9-ba6d-b862f19bb7ea",
   "metadata": {},
   "outputs": [],
   "source": [
    "# Clean all comments\n",
    "comments_df['clean_text'] = comments_df['body'].fillna(\"\").apply(clean_text)\n",
    "\n",
    "# Saved cleaned dataframe\n",
    "comments_df.to_csv(\"../data/taoism_comments_cleaned.csv\", index=False)"
   ]
  },
  {
   "cell_type": "code",
   "execution_count": 32,
   "id": "b7e97a86-5c0e-4783-9190-c456a2b9e769",
   "metadata": {},
   "outputs": [],
   "source": [
    "# For BERTopic input\n",
    "texts_cleaned = comments_df['clean_text'].tolist()"
   ]
  },
  {
   "cell_type": "code",
   "execution_count": 39,
   "id": "6c8e8e9a-29c0-4bc2-8898-4f25afabeeeb",
   "metadata": {},
   "outputs": [
    {
     "data": {
      "text/html": [
       "<div>\n",
       "<style scoped>\n",
       "    .dataframe tbody tr th:only-of-type {\n",
       "        vertical-align: middle;\n",
       "    }\n",
       "\n",
       "    .dataframe tbody tr th {\n",
       "        vertical-align: top;\n",
       "    }\n",
       "\n",
       "    .dataframe thead th {\n",
       "        text-align: right;\n",
       "    }\n",
       "</style>\n",
       "<table border=\"1\" class=\"dataframe\">\n",
       "  <thead>\n",
       "    <tr style=\"text-align: right;\">\n",
       "      <th></th>\n",
       "      <th>post_id</th>\n",
       "      <th>comment_id</th>\n",
       "      <th>parent_id</th>\n",
       "      <th>author</th>\n",
       "      <th>body</th>\n",
       "      <th>score</th>\n",
       "      <th>created_utc</th>\n",
       "      <th>depth</th>\n",
       "      <th>clean_text</th>\n",
       "    </tr>\n",
       "  </thead>\n",
       "  <tbody>\n",
       "    <tr>\n",
       "      <th>0</th>\n",
       "      <td>1kn2via</td>\n",
       "      <td>msf3jdu</td>\n",
       "      <td>t3_1kn2via</td>\n",
       "      <td>whatthebosh</td>\n",
       "      <td>Everything is as it is. If you feel moved to h...</td>\n",
       "      <td>32</td>\n",
       "      <td>1.747300e+09</td>\n",
       "      <td>0</td>\n",
       "      <td>feel move help man tear sound horrible simply ...</td>\n",
       "    </tr>\n",
       "    <tr>\n",
       "      <th>1</th>\n",
       "      <td>1kn2via</td>\n",
       "      <td>msez1as</td>\n",
       "      <td>t3_1kn2via</td>\n",
       "      <td>ZipMonk</td>\n",
       "      <td>It's not about good and evil those are Abraham...</td>\n",
       "      <td>26</td>\n",
       "      <td>1.747297e+09</td>\n",
       "      <td>0</td>\n",
       "      <td>good evil abrahamic concept</td>\n",
       "    </tr>\n",
       "    <tr>\n",
       "      <th>2</th>\n",
       "      <td>1kn2via</td>\n",
       "      <td>msezcku</td>\n",
       "      <td>t3_1kn2via</td>\n",
       "      <td>Yous1ash</td>\n",
       "      <td>Buddhism is much more equipped to deal with su...</td>\n",
       "      <td>25</td>\n",
       "      <td>1.747297e+09</td>\n",
       "      <td>0</td>\n",
       "      <td>buddhism equipped deal suffering experience st...</td>\n",
       "    </tr>\n",
       "    <tr>\n",
       "      <th>3</th>\n",
       "      <td>1kn2via</td>\n",
       "      <td>msf2ald</td>\n",
       "      <td>t3_1kn2via</td>\n",
       "      <td>jacques-vache-23</td>\n",
       "      <td>Why do you walk by?  The moment was there and ...</td>\n",
       "      <td>20</td>\n",
       "      <td>1.747299e+09</td>\n",
       "      <td>0</td>\n",
       "      <td>walk moment let pass move</td>\n",
       "    </tr>\n",
       "    <tr>\n",
       "      <th>4</th>\n",
       "      <td>1kn2via</td>\n",
       "      <td>msfl533</td>\n",
       "      <td>t3_1kn2via</td>\n",
       "      <td>yellowlotusx</td>\n",
       "      <td>Today, i went to the spots where hobos and add...</td>\n",
       "      <td>7</td>\n",
       "      <td>1.747309e+09</td>\n",
       "      <td>0</td>\n",
       "      <td>today go spot hobo addict hang give strawberry...</td>\n",
       "    </tr>\n",
       "  </tbody>\n",
       "</table>\n",
       "</div>"
      ],
      "text/plain": [
       "   post_id comment_id   parent_id            author  \\\n",
       "0  1kn2via    msf3jdu  t3_1kn2via       whatthebosh   \n",
       "1  1kn2via    msez1as  t3_1kn2via           ZipMonk   \n",
       "2  1kn2via    msezcku  t3_1kn2via          Yous1ash   \n",
       "3  1kn2via    msf2ald  t3_1kn2via  jacques-vache-23   \n",
       "4  1kn2via    msfl533  t3_1kn2via      yellowlotusx   \n",
       "\n",
       "                                                body  score   created_utc  \\\n",
       "0  Everything is as it is. If you feel moved to h...     32  1.747300e+09   \n",
       "1  It's not about good and evil those are Abraham...     26  1.747297e+09   \n",
       "2  Buddhism is much more equipped to deal with su...     25  1.747297e+09   \n",
       "3  Why do you walk by?  The moment was there and ...     20  1.747299e+09   \n",
       "4  Today, i went to the spots where hobos and add...      7  1.747309e+09   \n",
       "\n",
       "   depth                                         clean_text  \n",
       "0      0  feel move help man tear sound horrible simply ...  \n",
       "1      0                        good evil abrahamic concept  \n",
       "2      0  buddhism equipped deal suffering experience st...  \n",
       "3      0                          walk moment let pass move  \n",
       "4      0  today go spot hobo addict hang give strawberry...  "
      ]
     },
     "execution_count": 39,
     "metadata": {},
     "output_type": "execute_result"
    }
   ],
   "source": [
    "comments_df.head()"
   ]
  },
  {
   "cell_type": "code",
   "execution_count": null,
   "id": "54ff2fb1-17f1-4f99-a6ab-d990493ff9d0",
   "metadata": {},
   "outputs": [],
   "source": []
  }
 ],
 "metadata": {
  "kernelspec": {
   "display_name": "Python (Taoism)",
   "language": "python",
   "name": "taoism-env"
  },
  "language_info": {
   "codemirror_mode": {
    "name": "ipython",
    "version": 3
   },
   "file_extension": ".py",
   "mimetype": "text/x-python",
   "name": "python",
   "nbconvert_exporter": "python",
   "pygments_lexer": "ipython3",
   "version": "3.10.0"
  }
 },
 "nbformat": 4,
 "nbformat_minor": 5
}
